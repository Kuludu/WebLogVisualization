{
 "cells": [
  {
   "cell_type": "code",
   "execution_count": 41,
   "metadata": {},
   "outputs": [],
   "source": [
    "from pyspark.sql import SparkSession\n",
    "from pyspark.sql.functions import desc\n",
    "spark = SparkSession.builder.appName(\"xxx\").getOrCreate()\n",
    "spark_df = spark.read.csv(\"hdfs://localhost:9000/user/xxx/process_data.csv\",header=True, inferSchema=True)"
   ]
  },
  {
   "cell_type": "code",
   "execution_count": 42,
   "metadata": {},
   "outputs": [
    {
     "name": "stdout",
     "output_type": "stream",
     "text": [
      "+-------------------+------------+-------------------+--------+--------------------+-----------+------+--------+--------------------+----+--------------------+--------+------+--------+--------+--------+--------+\n",
      "|              时间0|      访问IP|              时间2|HTTP谓词|            访问目录|   HTTP协议|状态码|等待时间|            访问网址|标记|              浏览器|操作系统|  设备|是否电脑|是否爬虫|是否手机|是否平板|\n",
      "+-------------------+------------+-------------------+--------+--------------------+-----------+------+--------+--------------------+----+--------------------+--------+------+--------+--------+--------+--------+\n",
      "|2018-12-30 00:00:01|  127.0.0.1 |2018-12-30 00:00:01|    GET |                  / |  HTTP/1.1 |   200|    8259|                  - |   1|                curl|   Linux| Other|   false|   false|   false|   false|\n",
      "|2018-12-30 00:00:13| 172.20.4.1 |2018-12-30 00:00:13|   POST |         /logout.do |  HTTP/1.1 |   200|    8259|  http://xxx.xxx...|   1|       Mobile Safari|     iOS|iPhone|   false|   false|    true|   false|\n",
      "|2018-12-30 00:00:13| 172.20.4.1 |2018-12-30 00:00:13|    GET |  /dwr/interface/...|  HTTP/1.1 |   200|    2418|  http://xxx.xxx...|   1|       Mobile Safari|     iOS|iPhone|   false|   false|    true|   false|\n",
      "|2018-12-30 00:00:13| 172.20.4.1 |2018-12-30 00:00:13|    GET |  /js/String2MD5.js |  HTTP/1.1 |   404|     222|  http://xxx.xxx...|   1|       Mobile Safari|     iOS|iPhone|   false|   false|    true|   false|\n",
      "|2018-12-30 00:00:13| 172.20.4.1 |2018-12-30 00:00:13|    GET |  /validateCodeAc...|  HTTP/1.1 |   200|    1114|  http://xxx.xxx...|   1|       Mobile Safari|     iOS|iPhone|   false|   false|    true|   false|\n",
      "|2018-12-30 00:00:23| 172.20.4.1 |2018-12-30 00:00:23|    GET |       /xkAction.do |  HTTP/1.1 |   200|    1168|  http://xxx.xxx...|   1|                  IE| Windows| Other|    true|   false|   false|   false|\n",
      "|2018-12-30 00:00:25| 172.20.4.1 |2018-12-30 00:00:25|   POST |  /dwr/call/plain...|  HTTP/1.1 |   200|      75|  http://xxx.xxx...|   1|Chrome Mobile Web...| Android|PADM00|   false|   false|    true|   false|\n",
      "|2018-12-30 00:00:27| 172.20.4.1 |2018-12-30 00:00:27|   POST |  /dwr/call/plain...|  HTTP/1.1 |   200|      75|  http://xxx.xxx...|   1|Chrome Mobile Web...| Android|PADM00|   false|   false|    true|   false|\n",
      "|2018-12-30 00:00:27| 172.20.4.1 |2018-12-30 00:00:27|    GET |  /validateCodeAc...|  HTTP/1.1 |   200|    1139|  http://xxx.xxx...|   1|       Mobile Safari|     iOS|iPhone|   false|   false|    true|   false|\n",
      "|2018-12-30 00:00:27| 172.20.4.1 |2018-12-30 00:00:27|    GET |        /xkAction.do|  HTTP/1.1 |   200|   75994|  http://xxx.xxx...|   1|                  IE| Windows| Other|    true|   false|   false|   false|\n",
      "+-------------------+------------+-------------------+--------+--------------------+-----------+------+--------+--------------------+----+--------------------+--------+------+--------+--------+--------+--------+\n",
      "only showing top 10 rows\n",
      "\n"
     ]
    }
   ],
   "source": [
    "spark_df.show(10)"
   ]
  },
  {
   "cell_type": "markdown",
   "metadata": {},
   "source": [
    "# 南丁而尔玫瑰图"
   ]
  },
  {
   "cell_type": "code",
   "execution_count": 20,
   "metadata": {},
   "outputs": [
    {
     "name": "stderr",
     "output_type": "stream",
     "text": [
      "/home/xxx/.local/lib/python3.7/site-packages/ipykernel_launcher.py:1: FutureWarning: The signature of `Series.to_csv` was aligned to that of `DataFrame.to_csv`, and argument 'header' will change its default value from False to True: please pass an explicit value to suppress this warning.\n",
      "  \"\"\"Entry point for launching an IPython kernel.\n"
     ]
    }
   ],
   "source": [
    "spark_df.groupBy('访问网址').count().orderBy(desc('count')).show(30)\n",
    "# pandas_df[\"访问网址\"].value_counts()[:30]"
   ]
  },
  {
   "cell_type": "markdown",
   "metadata": {},
   "source": [
    "# 状态码图"
   ]
  },
  {
   "cell_type": "code",
   "execution_count": 44,
   "metadata": {},
   "outputs": [
    {
     "name": "stdout",
     "output_type": "stream",
     "text": [
      "+------+-------+\n",
      "|状态码|  count|\n",
      "+------+-------+\n",
      "|   200|1124566|\n",
      "|   404| 145718|\n",
      "|   302|  29023|\n",
      "|   500|   1260|\n",
      "|   206|     64|\n",
      "|   501|     12|\n",
      "+------+-------+\n",
      "\n"
     ]
    }
   ],
   "source": [
    "spark_df.groupBy('状态码').count().orderBy(desc('count')).show()\n",
    "# pandas_df[\"状态码\"].value_counts()"
   ]
  },
  {
   "cell_type": "markdown",
   "metadata": {},
   "source": [
    "# 每分钟访客量图"
   ]
  },
  {
   "cell_type": "code",
   "execution_count": 72,
   "metadata": {},
   "outputs": [
    {
     "name": "stdout",
     "output_type": "stream",
     "text": [
      "+----------------+-----+\n",
      "|            Time|count|\n",
      "+----------------+-----+\n",
      "|  2018-12-30-2-1|   51|\n",
      "|  2018-12-30-9-5|   55|\n",
      "|2018-12-30-19-39|   58|\n",
      "|2018-12-30-23-12|  136|\n",
      "| 2018-12-31-0-51|    3|\n",
      "| 2018-12-31-8-34|   87|\n",
      "|2018-12-31-13-29|  121|\n",
      "|2018-12-31-15-47|  117|\n",
      "|2018-12-31-16-32|   58|\n",
      "|2018-12-31-17-14|   48|\n",
      "|   2019-1-1-1-20|   12|\n",
      "|   2019-1-1-2-55|    4|\n",
      "|   2019-1-1-6-50|    4|\n",
      "|  2019-1-1-10-40|   30|\n",
      "|  2019-1-1-11-41|    8|\n",
      "|  2019-1-1-19-46|  177|\n",
      "|  2019-1-1-20-51|   20|\n",
      "|  2019-1-1-20-57|  149|\n",
      "|  2019-1-1-22-42|   88|\n",
      "|  2019-1-1-23-14|   11|\n",
      "+----------------+-----+\n",
      "only showing top 20 rows\n",
      "\n"
     ]
    }
   ],
   "source": [
    "from pyspark.sql.functions import year, month, dayofmonth\n",
    "from pyspark.sql.functions import hour, minute, second\n",
    "\n",
    "from pyspark.sql.functions import split, explode, concat, concat_ws\n",
    "\n",
    "Date = spark_df.select(year('时间0').alias('year'), \n",
    "          month('时间0').alias('month'),\n",
    "          dayofmonth('时间0').alias('day'),\n",
    "          hour('时间0').alias('hour'),\n",
    "          minute('时间0').alias('minute'),\n",
    ")\n",
    "\n",
    "df_concat = Date.withColumn(\"Time\", concat_ws(\"-\",Date['year'], \\\n",
    "                                                       Date['month'], Date['day'], Date['hour'], Date['minute']))\n",
    "for col in [\"year\",\"month\",\"day\",\"hour\",\"minute\"]:\n",
    "    df_concat = df_concat.drop(col)    \n",
    "\n",
    "df_time = df_concat.groupBy('Time').count()\n",
    "df_time.toPandas().to_csv(\"data/time.csv\",index=False)\n",
    "df_time.show()\n",
    "\n",
    "# import pandas as pd\n",
    "# pandas_df = df.toPandas()\n",
    "# pandas_df.index = pandas_df[\"时间0\"]\n",
    "# pandas_df.index = pd.to_datetime(pandas_df.index)\n",
    "# index = pandas_df.index.to_period('T')\n",
    "# index = index.value_counts()\n",
    "# min_data = index.sort_index()\n",
    "# min_data.to_csv(\"result/每分钟访客量.csv\")"
   ]
  },
  {
   "cell_type": "code",
   "execution_count": 78,
   "metadata": {},
   "outputs": [
    {
     "name": "stdout",
     "output_type": "stream",
     "text": [
      "+--------------------+------+\n",
      "|              浏览器| count|\n",
      "+--------------------+------+\n",
      "|                  IE|277333|\n",
      "|Chrome Mobile Web...|252583|\n",
      "|   QQ Browser Mobile|201151|\n",
      "|                Edge|199190|\n",
      "|          QQ Browser| 89617|\n",
      "|              Chrome| 53783|\n",
      "|         MiuiBrowser| 47203|\n",
      "|       Mobile Safari| 43923|\n",
      "|      Sogou Explorer| 27550|\n",
      "|          UC Browser| 22564|\n",
      "|Mobile Safari UI/...| 21386|\n",
      "|             Android| 20773|\n",
      "|             Firefox| 14050|\n",
      "|              Safari|  9592|\n",
      "|       Chrome Mobile|  9516|\n",
      "|    Samsung Internet|  3846|\n",
      "|        MobileSafari|  2898|\n",
      "|               Opera|   701|\n",
      "|      Firefox Mobile|   698|\n",
      "|              okhttp|   584|\n",
      "+--------------------+------+\n",
      "only showing top 20 rows\n",
      "\n"
     ]
    }
   ],
   "source": [
    "spark_df.groupBy('浏览器').count().orderBy(desc('count')).show()\n",
    "spark_df.groupBy('浏览器').count().orderBy(desc('count')).toPandas().to_csv(\"result/用户浏览器统计.csv\",index=False)"
   ]
  },
  {
   "cell_type": "code",
   "execution_count": 79,
   "metadata": {},
   "outputs": [
    {
     "name": "stdout",
     "output_type": "stream",
     "text": [
      "+--------+------+\n",
      "|操作系统| count|\n",
      "+--------+------+\n",
      "| Windows|669463|\n",
      "| Android|541473|\n",
      "|     iOS| 78347|\n",
      "|Mac OS X|  5365|\n",
      "|   Linux|  5260|\n",
      "|   Other|   735|\n",
      "+--------+------+\n",
      "\n"
     ]
    }
   ],
   "source": [
    "spark_df.groupBy('操作系统').count().orderBy(desc('count')).show()\n",
    "spark_df.groupBy('操作系统').count().orderBy(desc('count')).toPandas().to_csv(\"result/用户操作系统统计.csv\",index=False)"
   ]
  },
  {
   "cell_type": "code",
   "execution_count": 80,
   "metadata": {},
   "outputs": [
    {
     "name": "stdout",
     "output_type": "stream",
     "text": [
      "+------------------+------+\n",
      "|              设备| count|\n",
      "+------------------+------+\n",
      "|             Other|675445|\n",
      "|            iPhone| 64522|\n",
      "|            PACM00| 33019|\n",
      "|            PADM00| 30187|\n",
      "|          COL-AL10| 21974|\n",
      "|         vivo X21A| 20945|\n",
      "|          Oppo R11| 18442|\n",
      "|       XiaoMi MI 8| 13582|\n",
      "|Generic Smartphone| 12369|\n",
      "|            PAAM00| 11681|\n",
      "|          HWI-AL00| 11514|\n",
      "|          EML-AL00| 10987|\n",
      "|              iPad| 10528|\n",
      "|      XiaoMi MI 6X|  9514|\n",
      "|       XiaoMi MI 6|  9369|\n",
      "|          Oppo R9s|  8686|\n",
      "|          PAR-AL00|  8465|\n",
      "|          ANE-AL00|  8256|\n",
      "|           vivo X9|  7835|\n",
      "|         Oppo R11s|  7326|\n",
      "+------------------+------+\n",
      "only showing top 20 rows\n",
      "\n"
     ]
    }
   ],
   "source": [
    "spark_df.groupBy('设备').count().orderBy(desc('count')).show()\n",
    "spark_df.groupBy('设备').count().orderBy(desc('count')).toPandas().to_csv(\"result/用户设备统计.csv\",index=False)"
   ]
  },
  {
   "cell_type": "code",
   "execution_count": null,
   "metadata": {},
   "outputs": [],
   "source": []
  }
 ],
 "metadata": {
  "kernelspec": {
   "display_name": "Python 3",
   "language": "python",
   "name": "python3"
  },
  "language_info": {
   "codemirror_mode": {
    "name": "ipython",
    "version": 3
   },
   "file_extension": ".py",
   "mimetype": "text/x-python",
   "name": "python",
   "nbconvert_exporter": "python",
   "pygments_lexer": "ipython3",
   "version": "3.7.6"
  }
 },
 "nbformat": 4,
 "nbformat_minor": 4
}
